{
 "cells": [
  {
   "cell_type": "markdown",
   "metadata": {},
   "source": [
    "# Query Data with AWS Data Wrangler"
   ]
  },
  {
   "cell_type": "markdown",
   "metadata": {},
   "source": [
    "**AWS Data Wrangler** is an open-source Python library that extends the power of the Pandas library to AWS connecting DataFrames and AWS data related services (Amazon Redshift, AWS Glue, Amazon Athena, Amazon EMR, Amazon QuickSight, etc).\n",
    "\n",
    "* https://github.com/awslabs/aws-data-wrangler\n",
    "* https://aws-data-wrangler.readthedocs.io\n",
    "\n",
    "Built on top of other open-source projects like Pandas, Apache Arrow, Boto3, s3fs, SQLAlchemy, Psycopg2 and PyMySQL, it offers abstracted functions to execute usual ETL tasks like load/unload data from Data Lakes, Data Warehouses and Databases.\n",
    "\n",
    "_Note that AWS Data Wrangler is simply a Python library that uses existing AWS Services.  AWS Data Wrangler is not a separate AWS Service.  You install AWS Data Wrangler through `pip install` as we will see next._"
   ]
  },
  {
   "cell_type": "markdown",
   "metadata": {},
   "source": [
    "# _Pre-Requisite: Make Sure You Created an Athena Table for Both TSV and Parquet in Previous Notebooks_"
   ]
  },
  {
   "cell_type": "code",
   "execution_count": 1,
   "metadata": {},
   "outputs": [],
   "source": [
    "%store -r ingest_create_athena_table_tsv_passed"
   ]
  },
  {
   "cell_type": "code",
   "execution_count": 2,
   "metadata": {},
   "outputs": [
    {
     "name": "stdout",
     "output_type": "stream",
     "text": [
      "True\n"
     ]
    }
   ],
   "source": [
    "print(ingest_create_athena_table_tsv_passed)"
   ]
  },
  {
   "cell_type": "code",
   "execution_count": 3,
   "metadata": {},
   "outputs": [],
   "source": [
    "%store -r ingest_create_athena_table_parquet_passed"
   ]
  },
  {
   "cell_type": "code",
   "execution_count": 4,
   "metadata": {},
   "outputs": [
    {
     "name": "stdout",
     "output_type": "stream",
     "text": [
      "True\n"
     ]
    }
   ],
   "source": [
    "print(ingest_create_athena_table_parquet_passed)"
   ]
  },
  {
   "cell_type": "markdown",
   "metadata": {},
   "source": [
    "# Setup"
   ]
  },
  {
   "cell_type": "code",
   "execution_count": 5,
   "metadata": {},
   "outputs": [],
   "source": [
    "import sagemaker\n",
    "import boto3\n",
    "\n",
    "sess = sagemaker.Session()\n",
    "bucket = sess.default_bucket()\n",
    "role = sagemaker.get_execution_role()\n",
    "region = boto3.Session().region_name\n",
    "\n",
    "sm = boto3.Session().client(service_name=\"sagemaker\", region_name=region)"
   ]
  },
  {
   "cell_type": "code",
   "execution_count": 6,
   "metadata": {},
   "outputs": [],
   "source": [
    "import awswrangler as wr"
   ]
  },
  {
   "cell_type": "markdown",
   "metadata": {},
   "source": [
    "# Query Parquet from S3 with Push-Down Filters\n",
    "\n",
    "Read Apache Parquet file(s) from from a received S3 prefix or list of S3 objects paths.\n",
    "\n",
    "The concept of Dataset goes beyond the simple idea of files and enable more complex features like partitioning and catalog integration (AWS Glue Catalog): \n",
    "\n",
    "_dataset (bool)_ – If True read a parquet dataset instead of simple file(s) loading all the related partitions as columns."
   ]
  },
  {
   "cell_type": "code",
   "execution_count": 7,
   "metadata": {},
   "outputs": [],
   "source": [
    "p_filter = lambda x: x[\"product_category\"] == \"Digital_Software\""
   ]
  },
  {
   "cell_type": "code",
   "execution_count": 8,
   "metadata": {},
   "outputs": [
    {
     "data": {
      "text/plain": [
       "(102084, 3)"
      ]
     },
     "execution_count": 8,
     "metadata": {},
     "output_type": "execute_result"
    }
   ],
   "source": [
    "path = \"s3://{}/amazon-reviews-pds/parquet/\".format(bucket)\n",
    "df_parquet_results = wr.s3.read_parquet(\n",
    "    path, columns=[\"star_rating\", \"product_category\", \"review_body\"], partition_filter=p_filter, dataset=True\n",
    ")\n",
    "df_parquet_results.shape"
   ]
  },
  {
   "cell_type": "code",
   "execution_count": 9,
   "metadata": {},
   "outputs": [
    {
     "data": {
      "text/html": [
       "<div>\n",
       "<style scoped>\n",
       "    .dataframe tbody tr th:only-of-type {\n",
       "        vertical-align: middle;\n",
       "    }\n",
       "\n",
       "    .dataframe tbody tr th {\n",
       "        vertical-align: top;\n",
       "    }\n",
       "\n",
       "    .dataframe thead th {\n",
       "        text-align: right;\n",
       "    }\n",
       "</style>\n",
       "<table border=\"1\" class=\"dataframe\">\n",
       "  <thead>\n",
       "    <tr style=\"text-align: right;\">\n",
       "      <th></th>\n",
       "      <th>star_rating</th>\n",
       "      <th>review_body</th>\n",
       "      <th>product_category</th>\n",
       "    </tr>\n",
       "  </thead>\n",
       "  <tbody>\n",
       "    <tr>\n",
       "      <th>0</th>\n",
       "      <td>5</td>\n",
       "      <td>Covers all the important area's of threat. Kee...</td>\n",
       "      <td>Digital_Software</td>\n",
       "    </tr>\n",
       "    <tr>\n",
       "      <th>1</th>\n",
       "      <td>5</td>\n",
       "      <td>in all the years that I've used it I have neve...</td>\n",
       "      <td>Digital_Software</td>\n",
       "    </tr>\n",
       "    <tr>\n",
       "      <th>2</th>\n",
       "      <td>4</td>\n",
       "      <td>could not e file, could not download data,yr t...</td>\n",
       "      <td>Digital_Software</td>\n",
       "    </tr>\n",
       "    <tr>\n",
       "      <th>3</th>\n",
       "      <td>5</td>\n",
       "      <td>I have used Avast for several years and it has...</td>\n",
       "      <td>Digital_Software</td>\n",
       "    </tr>\n",
       "    <tr>\n",
       "      <th>4</th>\n",
       "      <td>4</td>\n",
       "      <td>It had been awhile since I first started using...</td>\n",
       "      <td>Digital_Software</td>\n",
       "    </tr>\n",
       "  </tbody>\n",
       "</table>\n",
       "</div>"
      ],
      "text/plain": [
       "   star_rating                                        review_body  \\\n",
       "0            5  Covers all the important area's of threat. Kee...   \n",
       "1            5  in all the years that I've used it I have neve...   \n",
       "2            4  could not e file, could not download data,yr t...   \n",
       "3            5  I have used Avast for several years and it has...   \n",
       "4            4  It had been awhile since I first started using...   \n",
       "\n",
       "   product_category  \n",
       "0  Digital_Software  \n",
       "1  Digital_Software  \n",
       "2  Digital_Software  \n",
       "3  Digital_Software  \n",
       "4  Digital_Software  "
      ]
     },
     "execution_count": 9,
     "metadata": {},
     "output_type": "execute_result"
    }
   ],
   "source": [
    "df_parquet_results.head(5)"
   ]
  },
  {
   "cell_type": "markdown",
   "metadata": {},
   "source": [
    "# Query Parquet from S3 in Chunks"
   ]
  },
  {
   "cell_type": "markdown",
   "metadata": {},
   "source": [
    "Batching (chunked argument) (Memory Friendly):\n",
    "\n",
    "Will enable the function to return a Iterable of DataFrames instead of a regular DataFrame.\n",
    "\n",
    "There are two batching strategies on Wrangler:\n",
    "* If chunked=True, a new DataFrame will be returned for each file in your path/dataset.\n",
    "* If chunked=INTEGER, Wrangler will iterate on the data by number of rows equal to the received INTEGER.\n",
    "\n",
    "P.S. chunked=True if faster and uses less memory while chunked=INTEGER is more precise in number of rows for each Dataframe."
   ]
  },
  {
   "cell_type": "code",
   "execution_count": 10,
   "metadata": {},
   "outputs": [],
   "source": [
    "path = \"s3://{}/amazon-reviews-pds/parquet/\".format(bucket)\n",
    "chunk_iter = wr.s3.read_parquet(\n",
    "    path,\n",
    "    columns=[\"star_rating\", \"product_category\", \"review_body\"],\n",
    "    # filters=[(\"product_category\", \"=\", \"Digital_Software\")],\n",
    "    partition_filter=p_filter,\n",
    "    dataset=True,\n",
    "    chunked=True,\n",
    ")"
   ]
  },
  {
   "cell_type": "code",
   "execution_count": 11,
   "metadata": {
    "scrolled": true
   },
   "outputs": [
    {
     "name": "stdout",
     "output_type": "stream",
     "text": [
      "       star_rating                                        review_body  \\\n",
      "0                5  Covers all the important area's of threat. Kee...   \n",
      "1                5  in all the years that I've used it I have neve...   \n",
      "2                4  could not e file, could not download data,yr t...   \n",
      "3                5  I have used Avast for several years and it has...   \n",
      "4                4  It had been awhile since I first started using...   \n",
      "...            ...                                                ...   \n",
      "16049            1  While the software in the box will work for Ma...   \n",
      "16050            5  The Software Download Sample is a pretty slick...   \n",
      "16051            1  The Amazon Downloader doesn't work for this pr...   \n",
      "16052            5  I have used used Turbotax to do my taxes for 1...   \n",
      "16053            3  My biggest complaint is that e-file costs extr...   \n",
      "\n",
      "       product_category  \n",
      "0      Digital_Software  \n",
      "1      Digital_Software  \n",
      "2      Digital_Software  \n",
      "3      Digital_Software  \n",
      "4      Digital_Software  \n",
      "...                 ...  \n",
      "16049  Digital_Software  \n",
      "16050  Digital_Software  \n",
      "16051  Digital_Software  \n",
      "16052  Digital_Software  \n",
      "16053  Digital_Software  \n",
      "\n",
      "[16054 rows x 3 columns]\n"
     ]
    }
   ],
   "source": [
    "print(next(chunk_iter))"
   ]
  },
  {
   "cell_type": "markdown",
   "metadata": {},
   "source": [
    "# Query the Glue Catalog (ie. Hive Metastore)\n",
    "Get an iterator of tables."
   ]
  },
  {
   "cell_type": "code",
   "execution_count": 12,
   "metadata": {},
   "outputs": [],
   "source": [
    "database_name = \"dsoaws\"\n",
    "table_name_tsv = \"amazon_reviews_tsv\"\n",
    "table_name_parquet = \"amazon_reviews_parquet\""
   ]
  },
  {
   "cell_type": "code",
   "execution_count": 13,
   "metadata": {},
   "outputs": [
    {
     "name": "stdout",
     "output_type": "stream",
     "text": [
      "amazon_reviews_parquet\n",
      "amazon_reviews_tsv\n"
     ]
    }
   ],
   "source": [
    "for table in wr.catalog.get_tables(database=\"dsoaws\"):\n",
    "    print(table[\"Name\"])"
   ]
  },
  {
   "cell_type": "markdown",
   "metadata": {},
   "source": [
    "# Query from Athena\n",
    "Execute any SQL query on AWS Athena and return the results as a Pandas DataFrame.  \n"
   ]
  },
  {
   "cell_type": "code",
   "execution_count": 14,
   "metadata": {},
   "outputs": [
    {
     "name": "stdout",
     "output_type": "stream",
     "text": [
      "CPU times: user 669 ms, sys: 36.9 ms, total: 706 ms\n",
      "Wall time: 6.79 s\n"
     ]
    }
   ],
   "source": [
    "%%time\n",
    "df = wr.athena.read_sql_query(sql=\"SELECT * FROM {} LIMIT 5000\".format(table_name_parquet), database=database_name)"
   ]
  },
  {
   "cell_type": "code",
   "execution_count": 15,
   "metadata": {},
   "outputs": [
    {
     "data": {
      "text/html": [
       "<div>\n",
       "<style scoped>\n",
       "    .dataframe tbody tr th:only-of-type {\n",
       "        vertical-align: middle;\n",
       "    }\n",
       "\n",
       "    .dataframe tbody tr th {\n",
       "        vertical-align: top;\n",
       "    }\n",
       "\n",
       "    .dataframe thead th {\n",
       "        text-align: right;\n",
       "    }\n",
       "</style>\n",
       "<table border=\"1\" class=\"dataframe\">\n",
       "  <thead>\n",
       "    <tr style=\"text-align: right;\">\n",
       "      <th></th>\n",
       "      <th>marketplace</th>\n",
       "      <th>customer_id</th>\n",
       "      <th>review_id</th>\n",
       "      <th>product_id</th>\n",
       "      <th>product_parent</th>\n",
       "      <th>product_title</th>\n",
       "      <th>star_rating</th>\n",
       "      <th>helpful_votes</th>\n",
       "      <th>total_votes</th>\n",
       "      <th>vine</th>\n",
       "      <th>verified_purchase</th>\n",
       "      <th>review_headline</th>\n",
       "      <th>review_body</th>\n",
       "      <th>year</th>\n",
       "      <th>review_date</th>\n",
       "      <th>product_category</th>\n",
       "    </tr>\n",
       "  </thead>\n",
       "  <tbody>\n",
       "    <tr>\n",
       "      <th>0</th>\n",
       "      <td>US</td>\n",
       "      <td>45662660</td>\n",
       "      <td>R2424MK0YF60DH</td>\n",
       "      <td>BT00CTP84S</td>\n",
       "      <td>775486538</td>\n",
       "      <td>Amazon.com Gift Card in a Greeting Card (Vario...</td>\n",
       "      <td>5</td>\n",
       "      <td>0</td>\n",
       "      <td>0</td>\n",
       "      <td>N</td>\n",
       "      <td>Y</td>\n",
       "      <td>Easiest and most convenient experience ever!</td>\n",
       "      <td>I had three graduates and a bride to get gifts...</td>\n",
       "      <td>2012</td>\n",
       "      <td>2012-06-07</td>\n",
       "      <td>Gift Card</td>\n",
       "    </tr>\n",
       "    <tr>\n",
       "      <th>1</th>\n",
       "      <td>US</td>\n",
       "      <td>48337268</td>\n",
       "      <td>R2ZKW0XDFNKCIB</td>\n",
       "      <td>B004LLIKVU</td>\n",
       "      <td>473048287</td>\n",
       "      <td>Amazon.com eGift Cards</td>\n",
       "      <td>5</td>\n",
       "      <td>0</td>\n",
       "      <td>0</td>\n",
       "      <td>N</td>\n",
       "      <td>Y</td>\n",
       "      <td>Gift Cards Rock</td>\n",
       "      <td>What a great way to give a last minute gift.  ...</td>\n",
       "      <td>2012</td>\n",
       "      <td>2012-06-07</td>\n",
       "      <td>Gift Card</td>\n",
       "    </tr>\n",
       "    <tr>\n",
       "      <th>2</th>\n",
       "      <td>US</td>\n",
       "      <td>40892729</td>\n",
       "      <td>R1WQ736I3JW7JV</td>\n",
       "      <td>BT00CTOUNS</td>\n",
       "      <td>775486538</td>\n",
       "      <td>Amazon.com Gift Card in a Greeting Card (Vario...</td>\n",
       "      <td>5</td>\n",
       "      <td>0</td>\n",
       "      <td>0</td>\n",
       "      <td>N</td>\n",
       "      <td>Y</td>\n",
       "      <td>mother's day gift card</td>\n",
       "      <td>I received this card from my son.  It was easy...</td>\n",
       "      <td>2012</td>\n",
       "      <td>2012-06-07</td>\n",
       "      <td>Gift Card</td>\n",
       "    </tr>\n",
       "    <tr>\n",
       "      <th>3</th>\n",
       "      <td>US</td>\n",
       "      <td>46868983</td>\n",
       "      <td>R14CIF2YY8Y8AW</td>\n",
       "      <td>BT00CTOUNS</td>\n",
       "      <td>775486538</td>\n",
       "      <td>Amazon.com Gift Card in a Greeting Card (Vario...</td>\n",
       "      <td>4</td>\n",
       "      <td>0</td>\n",
       "      <td>0</td>\n",
       "      <td>N</td>\n",
       "      <td>N</td>\n",
       "      <td>Amazon Gift card</td>\n",
       "      <td>Took me a little while to figure how to use it...</td>\n",
       "      <td>2012</td>\n",
       "      <td>2012-06-07</td>\n",
       "      <td>Gift Card</td>\n",
       "    </tr>\n",
       "    <tr>\n",
       "      <th>4</th>\n",
       "      <td>US</td>\n",
       "      <td>46536369</td>\n",
       "      <td>RXGAM1GN9DBLR</td>\n",
       "      <td>BT00DDC7BK</td>\n",
       "      <td>802996579</td>\n",
       "      <td>Amazon.com Gift Cards - Print at Home</td>\n",
       "      <td>4</td>\n",
       "      <td>0</td>\n",
       "      <td>0</td>\n",
       "      <td>N</td>\n",
       "      <td>N</td>\n",
       "      <td>On-line gift card</td>\n",
       "      <td>The on-line gift card was quick and easy.  My ...</td>\n",
       "      <td>2012</td>\n",
       "      <td>2012-06-07</td>\n",
       "      <td>Gift Card</td>\n",
       "    </tr>\n",
       "  </tbody>\n",
       "</table>\n",
       "</div>"
      ],
      "text/plain": [
       "  marketplace customer_id       review_id  product_id product_parent  \\\n",
       "0          US    45662660  R2424MK0YF60DH  BT00CTP84S      775486538   \n",
       "1          US    48337268  R2ZKW0XDFNKCIB  B004LLIKVU      473048287   \n",
       "2          US    40892729  R1WQ736I3JW7JV  BT00CTOUNS      775486538   \n",
       "3          US    46868983  R14CIF2YY8Y8AW  BT00CTOUNS      775486538   \n",
       "4          US    46536369   RXGAM1GN9DBLR  BT00DDC7BK      802996579   \n",
       "\n",
       "                                       product_title  star_rating  \\\n",
       "0  Amazon.com Gift Card in a Greeting Card (Vario...            5   \n",
       "1                             Amazon.com eGift Cards            5   \n",
       "2  Amazon.com Gift Card in a Greeting Card (Vario...            5   \n",
       "3  Amazon.com Gift Card in a Greeting Card (Vario...            4   \n",
       "4              Amazon.com Gift Cards - Print at Home            4   \n",
       "\n",
       "   helpful_votes  total_votes vine verified_purchase  \\\n",
       "0              0            0    N                 Y   \n",
       "1              0            0    N                 Y   \n",
       "2              0            0    N                 Y   \n",
       "3              0            0    N                 N   \n",
       "4              0            0    N                 N   \n",
       "\n",
       "                                review_headline  \\\n",
       "0  Easiest and most convenient experience ever!   \n",
       "1                               Gift Cards Rock   \n",
       "2                        mother's day gift card   \n",
       "3                              Amazon Gift card   \n",
       "4                             On-line gift card   \n",
       "\n",
       "                                         review_body  year review_date  \\\n",
       "0  I had three graduates and a bride to get gifts...  2012  2012-06-07   \n",
       "1  What a great way to give a last minute gift.  ...  2012  2012-06-07   \n",
       "2  I received this card from my son.  It was easy...  2012  2012-06-07   \n",
       "3  Took me a little while to figure how to use it...  2012  2012-06-07   \n",
       "4  The on-line gift card was quick and easy.  My ...  2012  2012-06-07   \n",
       "\n",
       "  product_category  \n",
       "0        Gift Card  \n",
       "1        Gift Card  \n",
       "2        Gift Card  \n",
       "3        Gift Card  \n",
       "4        Gift Card  "
      ]
     },
     "execution_count": 15,
     "metadata": {},
     "output_type": "execute_result"
    }
   ],
   "source": [
    "df.head(5)"
   ]
  },
  {
   "cell_type": "markdown",
   "metadata": {},
   "source": [
    "# Query from Athena in Chunks\n",
    "Retrieving in chunks can help reduce memory requirements.  \n",
    "\n",
    "_This will take a few seconds._"
   ]
  },
  {
   "cell_type": "code",
   "execution_count": 16,
   "metadata": {},
   "outputs": [
    {
     "name": "stdout",
     "output_type": "stream",
     "text": [
      "CPU times: user 464 ms, sys: 26.6 ms, total: 491 ms\n",
      "Wall time: 4.97 s\n"
     ]
    }
   ],
   "source": [
    "%%time\n",
    "\n",
    "chunk_iter = wr.athena.read_sql_query(\n",
    "    sql=\"SELECT * FROM {} LIMIT 5000\".format(table_name_parquet),\n",
    "    database=\"{}\".format(database_name),\n",
    "    chunksize=64_000,  # 64 KB Chunks\n",
    ")"
   ]
  },
  {
   "cell_type": "code",
   "execution_count": 17,
   "metadata": {},
   "outputs": [
    {
     "name": "stdout",
     "output_type": "stream",
     "text": [
      "     marketplace customer_id       review_id  product_id product_parent  \\\n",
      "0             US    41754720  R19OFJV91M7D8X  B000YMR61A      141393130   \n",
      "1             US    51669529  R1I6G894K5AGG5  B000YMR61A      141393130   \n",
      "2             US    24731012  R17OE43FFEP81I  B000YMR5X4      234295632   \n",
      "3             US    16049580  R15MGDDK63B52Z  B000YMR61A      141393130   \n",
      "4             US    46098046  R1GGJJA2R68033  B000YMNI2Q      847631772   \n",
      "...          ...         ...             ...         ...            ...   \n",
      "3966          US    37257504  R2QF11SV16WQ9E  B009HBCU9W      194449368   \n",
      "3967          US    28452005  R30JGXVFO63SZJ  B008S0IWNQ      710343641   \n",
      "3968          US    52157231  R3DW1CXLWM1R5F  B00BFYHBY8      422702117   \n",
      "3969          US    52201716  R1ESUSBZRTM05F  B008S0IR6I      249974728   \n",
      "3970          US    38774886   RQBDBSC2758N6  B008S0IE5M      835509971   \n",
      "\n",
      "                                      product_title  star_rating  \\\n",
      "0              TurboTax Deluxe Federal + State 2007            2   \n",
      "1              TurboTax Deluxe Federal + State 2007            4   \n",
      "2             TurboTax Premier Federal + State 2007            2   \n",
      "3              TurboTax Deluxe Federal + State 2007            3   \n",
      "4                               TurboTax Basic 2007            1   \n",
      "...                                             ...          ...   \n",
      "3966  TurboTax Deluxe Federal + E-File + State 2012            4   \n",
      "3967                            QuickBooks Pro 2013            2   \n",
      "3968                          Toast 11 Titanium Mac            1   \n",
      "3969                   Quicken Starter Edition 2013            3   \n",
      "3970                   Quicken Home & Business 2013            4   \n",
      "\n",
      "      helpful_votes  total_votes vine verified_purchase  \\\n",
      "0                12           13    N                 N   \n",
      "1                 6            9    N                 N   \n",
      "2                 9           16    N                 N   \n",
      "3                14           14    N                 N   \n",
      "4                54           60    N                 N   \n",
      "...             ...          ...  ...               ...   \n",
      "3966              0            0    N                 Y   \n",
      "3967              2            2    N                 N   \n",
      "3968              3            3    N                 Y   \n",
      "3969              0            0    N                 Y   \n",
      "3970              0            0    N                 Y   \n",
      "\n",
      "                                        review_headline  \\\n",
      "0              Easy to use, 1 comment 1 serious problem   \n",
      "1     Schedule C  IS for business- figures it would ...   \n",
      "2                                    Hassel to download   \n",
      "3                                       beware of vista   \n",
      "4                                don't waste your money   \n",
      "...                                                 ...   \n",
      "3966                                        Worked Well   \n",
      "3967                           INtuit ruined Quickbooks   \n",
      "3968      Worst software purchase ever in my experience   \n",
      "3969                      I'm not into organizing money   \n",
      "3970                            Very Adequate - 4 Stars   \n",
      "\n",
      "                                            review_body  year review_date  \\\n",
      "0     I chose the deluxe version CD because of mortg...  2008  2008-02-11   \n",
      "1     Schedule C  IS for business, so figures it wou...  2008  2008-02-08   \n",
      "2     I wish that companies can test several scenari...  2008  2008-02-05   \n",
      "3     i just installed turbotax deluxe 2007. If you ...  2008  2008-02-05   \n",
      "4     The description mentions that you can use this...  2008  2008-01-26   \n",
      "...                                                 ...   ...         ...   \n",
      "3966  Have used the same Intuit software for years. ...  2013  2013-06-14   \n",
      "3967  I am a CPA and I have owned almost every versi...  2013  2013-06-14   \n",
      "3968  I have been a user of Roxio software on the mi...  2013  2013-06-14   \n",
      "3969  just like to spend it, Its a good product to u...  2013  2013-06-14   \n",
      "3970  Used Quicken quite a bit many years ago, but t...  2013  2013-06-14   \n",
      "\n",
      "      product_category  \n",
      "0     Digital_Software  \n",
      "1     Digital_Software  \n",
      "2     Digital_Software  \n",
      "3     Digital_Software  \n",
      "4     Digital_Software  \n",
      "...                ...  \n",
      "3966  Digital_Software  \n",
      "3967  Digital_Software  \n",
      "3968  Digital_Software  \n",
      "3969  Digital_Software  \n",
      "3970  Digital_Software  \n",
      "\n",
      "[5000 rows x 16 columns]\n"
     ]
    }
   ],
   "source": [
    "print(next(chunk_iter))"
   ]
  }
 ],
 "metadata": {
  "instance_type": "ml.t3.medium",
  "kernelspec": {
   "display_name": "Python 3 (Data Science)",
   "language": "python",
   "name": "python3__SAGEMAKER_INTERNAL__arn:aws:sagemaker:us-east-1:081325390199:image/datascience-1.0"
  },
  "language_info": {
   "codemirror_mode": {
    "name": "ipython",
    "version": 3
   },
   "file_extension": ".py",
   "mimetype": "text/x-python",
   "name": "python",
   "nbconvert_exporter": "python",
   "pygments_lexer": "ipython3",
   "version": "3.7.10"
  }
 },
 "nbformat": 4,
 "nbformat_minor": 4
}
